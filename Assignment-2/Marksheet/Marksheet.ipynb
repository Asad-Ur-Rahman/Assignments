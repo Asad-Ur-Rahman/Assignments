{
 "cells": [
  {
   "cell_type": "code",
   "execution_count": 8,
   "id": "87dad847",
   "metadata": {},
   "outputs": [
    {
     "name": "stdout",
     "output_type": "stream",
     "text": [
      "Your Grade is A2\n"
     ]
    }
   ],
   "source": [
    "eng = 60;\n",
    "isl = 90;\n",
    "maths = 100;\n",
    "\n",
    "condition = isinstance(eng ,int) and isinstance(isl,int) and isinstance(maths,int);\n",
    "\n",
    "if condition: #type checking for integer \n",
    "    #print(\"Its integer \");\n",
    "    obtainedMarks = eng + isl + maths;\n",
    "    total = 300;\n",
    "    \n",
    "    percentage = (obtainedMarks/total)*100;  #print(percentage);\n",
    "    \n",
    "    \n",
    "    if percentage>=91 and percentage<=100:\n",
    "        print(\"Your Grade is A1\")\n",
    "\n",
    "    elif percentage>=81 and percentage<91:\n",
    "        print(\"Your Grade is A2\")\n",
    "\n",
    "    elif percentage>=71 and percentage<81:\n",
    "        print(\"Your Grade is B1\")\n",
    "\n",
    "    elif percentage>=61 and percentage<71:\n",
    "        print(\"Your Grade is B2\")\n",
    "\n",
    "    elif percentage>=51 and percentage<61:\n",
    "        print(\"Your Grade is C1\")\n",
    "\n",
    "    elif percentage>=41 and percentage<51:\n",
    "        print(\"Your Grade is C2\")\n",
    "\n",
    "    elif percentage>=33 and percentage<41:\n",
    "        print(\"Your Grade is D\")\n",
    "\n",
    "    elif percentage>=21 and percentage<33:\n",
    "        print(\"Your Grade is E1\")\n",
    "\n",
    "    elif percentage>=0 and percentage<21:\n",
    "        print(\"Your Grade is E2\")\n",
    "\n",
    "    else:\n",
    "        print(\"Invalid Input!\")\n",
    "\n",
    "else:\n",
    "    print(\"only integergs are allowed!\")\n",
    "    "
   ]
  },
  {
   "cell_type": "code",
   "execution_count": null,
   "id": "20f43687",
   "metadata": {},
   "outputs": [],
   "source": []
  }
 ],
 "metadata": {
  "kernelspec": {
   "display_name": "Python 3",
   "language": "python",
   "name": "python3"
  },
  "language_info": {
   "codemirror_mode": {
    "name": "ipython",
    "version": 3
   },
   "file_extension": ".py",
   "mimetype": "text/x-python",
   "name": "python",
   "nbconvert_exporter": "python",
   "pygments_lexer": "ipython3",
   "version": "3.8.8"
  }
 },
 "nbformat": 4,
 "nbformat_minor": 5
}
