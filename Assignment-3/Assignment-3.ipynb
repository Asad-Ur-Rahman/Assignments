{
 "cells": [
  {
   "cell_type": "markdown",
   "id": "145b9fbd",
   "metadata": {},
   "source": [
    "# Q-1 Write a Python program to print the following string in a specific format."
   ]
  },
  {
   "cell_type": "code",
   "execution_count": 15,
   "id": "4ab84b34",
   "metadata": {},
   "outputs": [
    {
     "name": "stdout",
     "output_type": "stream",
     "text": [
      "Twinkle, twinkle, little star,\n",
      "          How I wonder what you are!\n",
      "                  Up above the world so high,\n",
      "                  Like a diamond in the sky.\n",
      "Twinkle, twinkle, little star,\n",
      "          How I wonder what you are\n"
     ]
    }
   ],
   "source": [
    "# Q1 Write a Python program to print the following string in a specific format (see the output).\n",
    "#Twinkle, twinkle, little star,\n",
    "#          How I wonder what you are!\n",
    "#                  Up above the world so high,\n",
    "#                  Like a diamond in the sky.\n",
    "#Twinkle, twinkle, little star,\n",
    "#          How I wonder what you are\n",
    "\n",
    "\n",
    "x = '''Twinkle, twinkle, little star,\n",
    "          How I wonder what you are!\n",
    "                  Up above the world so high,\n",
    "                  Like a diamond in the sky.\n",
    "Twinkle, twinkle, little star,\n",
    "          How I wonder what you are'''\n",
    "print(x)"
   ]
  },
  {
   "cell_type": "markdown",
   "id": "b5db4e0d",
   "metadata": {},
   "source": [
    "# Q-2 Write a Python program to get the Python version you are using"
   ]
  },
  {
   "cell_type": "code",
   "execution_count": 16,
   "id": "9a8f9cc5",
   "metadata": {},
   "outputs": [
    {
     "name": "stdout",
     "output_type": "stream",
     "text": [
      "3.8.8\n"
     ]
    }
   ],
   "source": [
    "# Q2 Write a Python program to get the Python version you are using\n",
    "\n",
    "from platform import python_version\n",
    "\n",
    "print(python_version())"
   ]
  },
  {
   "cell_type": "markdown",
   "id": "8df295be",
   "metadata": {},
   "source": [
    "# Q-3 Write a Python program to display the current date and time."
   ]
  },
  {
   "cell_type": "code",
   "execution_count": 33,
   "id": "c5587770",
   "metadata": {},
   "outputs": [
    {
     "name": "stdout",
     "output_type": "stream",
     "text": [
      "Time -> 22:23:22\n",
      "Date -> 21-10-2021 \n"
     ]
    }
   ],
   "source": [
    "# Q3 Write a Python program to display the current date and time.\n",
    "\n",
    "from datetime import datetime\n",
    "\n",
    "now = datetime.now()\n",
    " \n",
    "dt_string = now.strftime(\"%d-%m-%Y %H:%M:%S\")\n",
    "\n",
    "print(\"Time -> {1}\\nDate -> {0}\".format(dt_string[:11], dt_string[11:]))\t"
   ]
  },
  {
   "cell_type": "markdown",
   "id": "4cd65e86",
   "metadata": {},
   "source": [
    "# Q-4 Write a Python program which accepts the radius of a circle from the user and compute the area."
   ]
  },
  {
   "cell_type": "code",
   "execution_count": 47,
   "id": "631854df",
   "metadata": {},
   "outputs": [
    {
     "name": "stdout",
     "output_type": "stream",
     "text": [
      "Enter radius of circle: 9\n",
      "The Area of Circle is 254.46900494077323 unit²\n"
     ]
    }
   ],
   "source": [
    "# Q4 Write a Python program which accepts the radius of a circle from the user and compute the area. pi*r*r\n",
    "\n",
    "from math import pi\n",
    "\n",
    "x = input(\"Enter radius of circle: \")\n",
    "try:\n",
    "    r = float(x)\n",
    "    if r > 0:\n",
    "        print(\"The Area of Circle is {0} unit\\u00B2\".format(pi*r*r,))\n",
    "    else:\n",
    "        print(\"Please enter positive and non zero raduis value\")\n",
    "    \n",
    "except:\n",
    "    print(\"Enter number \")"
   ]
  },
  {
   "cell_type": "markdown",
   "id": "77aa2a9f",
   "metadata": {},
   "source": [
    "# Q-5    Write a Python program which accepts the user's first and last name and print them in reverse order with a space between them."
   ]
  },
  {
   "cell_type": "code",
   "execution_count": 52,
   "id": "29390945",
   "metadata": {},
   "outputs": [
    {
     "name": "stdout",
     "output_type": "stream",
     "text": [
      "Enter your first name: Asad\n",
      "Enter your last name: Rahman\n",
      "\n",
      "Rahman Asad\n"
     ]
    }
   ],
   "source": [
    "# Q5 Write a Python program which accepts the user's first and last name and print them in\n",
    "#reverse order with a space between them.\n",
    "\n",
    "first_name = input(\"Enter your first name: \")\n",
    "last_name = input(\"Enter your last name: \")\n",
    "\n",
    "name =  \"\\n{1} {0}\".format(first_name, last_name)\n",
    "print(name)"
   ]
  },
  {
   "cell_type": "markdown",
   "id": "5897cacc",
   "metadata": {},
   "source": [
    "# Q-6 Write a python program which takes two inputs from user and print them addition."
   ]
  },
  {
   "cell_type": "code",
   "execution_count": 2,
   "id": "3bf8ada1",
   "metadata": {},
   "outputs": [],
   "source": [
    "# function for checking user entered integer, float or string\n",
    "\n",
    "def check_user_input(x): \n",
    "    try:\n",
    "        # Convert it into integer\n",
    "        val = int(x)\n",
    "        #print(\"Input is an integer number. Number = \", val)\n",
    "        return (\"int\",val)\n",
    "    except ValueError:\n",
    "        try:\n",
    "            # Convert it into float\n",
    "            val = float(x)\n",
    "            #print(\"Input is a float  number. Number = \", val)\n",
    "            return (\"flt\", val)\n",
    "        except ValueError:\n",
    "            return (\"nan\", \"\\nPlease enter number only\")"
   ]
  },
  {
   "cell_type": "code",
   "execution_count": 3,
   "id": "a968272a",
   "metadata": {},
   "outputs": [
    {
     "name": "stdout",
     "output_type": "stream",
     "text": [
      "Enter first number: 9\n",
      "Enter second number: 0.5\n",
      "\n",
      "9 + 0.5 = 9.5\n"
     ]
    }
   ],
   "source": [
    "a = input(\"Enter first number: \") # user input\n",
    "b = input(\"Enter second number: \")\n",
    "\n",
    "ipt1 = check_user_input(a) # fuction evalute value and return corresponding tuple\n",
    "ipt2 = check_user_input(b)\n",
    "\n",
    "if ipt1[0] == 'nan' or ipt2[0] == 'nan':\n",
    "    print(\"\\nPlease enter number only\")\n",
    "\n",
    "else:\n",
    "    print(\"\\n{0} + {1} = {2}\".format(ipt1[1], ipt2[1], ipt1[1] + ipt2[1]))"
   ]
  },
  {
   "cell_type": "markdown",
   "id": "008011b2",
   "metadata": {},
   "source": [
    "# Q-7 Write a program which takes 5 inputs from user for different subject’s marks, total it and generate mark sheet using grades ?"
   ]
  },
  {
   "cell_type": "code",
   "execution_count": 5,
   "id": "c0491381",
   "metadata": {},
   "outputs": [],
   "source": [
    "# function for checking wether tered integer, float or string\n",
    "\n",
    "def check_user_input(x): \n",
    "    try:\n",
    "        # Convert it into integer\n",
    "        val = int(x)\n",
    "        #print(\"Input is an integer number. Number = \", val)\n",
    "        return (\"int\",val)\n",
    "    except ValueError:\n",
    "        try:\n",
    "            # Convert it into float\n",
    "            val = float(x)\n",
    "            #print(\"Input is a float  number. Number = \", val)\n",
    "            return (\"flt\", val)\n",
    "        except ValueError:\n",
    "            return (\"nan\", \"\\nPlease enter number only\")\n"
   ]
  },
  {
   "cell_type": "code",
   "execution_count": 11,
   "id": "4be943bd",
   "metadata": {},
   "outputs": [
    {
     "name": "stdout",
     "output_type": "stream",
     "text": [
      "Please enter marks of first subject: 25\n",
      "Please enter marks of second subject: 63\n",
      "Please enter marks of third subject: 100\n",
      "Please enter marks of fourth subject: 100\n",
      "Please enter marks of fifth subject: 100\n",
      "\n",
      "Your Grade is B1\n"
     ]
    }
   ],
   "source": [
    "sub1 = input(\"Please enter marks of first subject: \")\n",
    "sub2 = input(\"Please enter marks of second subject: \")\n",
    "sub3 = input(\"Please enter marks of third subject: \")\n",
    "sub4 = input(\"Please enter marks of fourth subject: \")\n",
    "sub5 = input(\"Please enter marks of fifth subject: \")\n",
    "\n",
    "s1 = check_user_input(sub1)\n",
    "s2 = check_user_input(sub2)\n",
    "s3 = check_user_input(sub3)\n",
    "s4 = check_user_input(sub4)\n",
    "s5 = check_user_input(sub5)\n",
    "\n",
    "condition = s1[0] == \"nan\" or s2[0] == \"nan\" or s3[0] == \"nan\" or s4[0] == \"nan\" or s5[0] == \"nan\"\n",
    "\n",
    "if condition:\n",
    "    \n",
    "    print(\"\\nPlease enter number(s) only\")\n",
    "    \n",
    "else:\n",
    "    \n",
    "    \n",
    "    obtainedMarks = s1[1] + s2[1] + s3[1] + s4[1] + s5[1]\n",
    "    total = 500;\n",
    "    \n",
    "    percentage = (obtainedMarks/total)*100;  #print(percentage);\n",
    "    \n",
    "    \n",
    "    if percentage>=91 and percentage<=100:\n",
    "        print(\"\\nYour Grade is A1\")\n",
    "\n",
    "    elif percentage>=81 and percentage<91:\n",
    "        print(\"\\nYour Grade is A2\")\n",
    "\n",
    "    elif percentage>=71 and percentage<81:\n",
    "        print(\"\\nYour Grade is B1\")\n",
    "\n",
    "    elif percentage>=61 and percentage<71:\n",
    "        print(\"\\nYour Grade is B2\")\n",
    "\n",
    "    elif percentage>=51 and percentage<61:\n",
    "        print(\"\\nYour Grade is C1\")\n",
    "\n",
    "    elif percentage>=41 and percentage<51:\n",
    "        print(\"\\nYour Grade is C2\")\n",
    "\n",
    "    elif percentage>=33 and percentage<41:\n",
    "        print(\"\\nYour Grade is D\")\n",
    "\n",
    "    elif percentage>=21 and percentage<33:\n",
    "        print(\"\\nYour Grade is E1\")\n",
    "\n",
    "    elif percentage>=0 and percentage<21:\n",
    "        print(\"\\nYour Grade is E2\")\n",
    "\n",
    "    else:\n",
    "        print(\"\\nInvalid Input!\")\n",
    "    "
   ]
  },
  {
   "cell_type": "markdown",
   "id": "5ec5db2c",
   "metadata": {},
   "source": [
    "# Q-8 Write a program which take input from user and identify that the given number is even or odd?"
   ]
  },
  {
   "cell_type": "code",
   "execution_count": 19,
   "id": "eaf20576",
   "metadata": {},
   "outputs": [
    {
     "name": "stdout",
     "output_type": "stream",
     "text": [
      "Enter any number: 9\n",
      "\n",
      "9 is odd number\n"
     ]
    }
   ],
   "source": [
    "# Q8 Write a program which take input from user and identify that the given number is even or odd?\n",
    "\n",
    "num =  input(\"Enter any number: \")\n",
    "\n",
    "try:\n",
    "    x = int(num)\n",
    "    \n",
    "    if x%2 == 0:\n",
    "        print(\"\\n{0} is an even number\".format(x))\n",
    "    \n",
    "    else:\n",
    "        print(\"\\n{0} is odd number\".format(x))\n",
    "\n",
    "except:\n",
    "    \n",
    "    print(\"\\nPlease enter whole number only\")\n"
   ]
  },
  {
   "cell_type": "markdown",
   "id": "ce724b62",
   "metadata": {},
   "source": [
    "# Q-9 Write a program which print the length of the list?"
   ]
  },
  {
   "cell_type": "code",
   "execution_count": 47,
   "id": "1467051c",
   "metadata": {},
   "outputs": [
    {
     "name": "stdout",
     "output_type": "stream",
     "text": [
      "The length of list is 9\n"
     ]
    }
   ],
   "source": [
    "# Q9 Write a program which print the length of the list?\n",
    "\n",
    "a = [1, 2, 3, 4, 5, 6, 7, 8, 9]\n",
    "lngth = 0\n",
    "\n",
    "for i in a:\n",
    "    lngth += 1\n",
    "\n",
    "print(\"The length of list is {0}\".format(lngth))"
   ]
  },
  {
   "cell_type": "markdown",
   "id": "8800f416",
   "metadata": {},
   "source": [
    "# Q-10 Write a Python program to sum all the numeric items in a list?\n"
   ]
  },
  {
   "cell_type": "code",
   "execution_count": 23,
   "id": "a88410c1",
   "metadata": {},
   "outputs": [
    {
     "name": "stdout",
     "output_type": "stream",
     "text": [
      "Sum of all elements is 45\n"
     ]
    }
   ],
   "source": [
    "# Q10 Write a Python program to sum all the numeric items in a list?\n",
    "\n",
    "a = [1, 2, 3, 4, 5, 6, 7, 8, 9]\n",
    "total = 0\n",
    "\n",
    "for z in a:\n",
    "    total += z\n",
    "\n",
    "print(\"Sum of all elements is {0}\".format(total))"
   ]
  },
  {
   "cell_type": "markdown",
   "id": "2ae79423",
   "metadata": {},
   "source": [
    "# Q-11 Write a Python program to get the largest number from a numeric list."
   ]
  },
  {
   "cell_type": "code",
   "execution_count": 21,
   "id": "074573dd",
   "metadata": {},
   "outputs": [
    {
     "name": "stdout",
     "output_type": "stream",
     "text": [
      "The largest number of list is 9\n"
     ]
    }
   ],
   "source": [
    "# Q11 Write a Python program to get the largest number from a numeric list.\n",
    "\n",
    "a = [1, 2, 3, 4, 5, 6, 7, 8, 9]\n",
    "\n",
    "big = 0\n",
    "\n",
    "for i in a:\n",
    "    if big < i:\n",
    "        big = i\n",
    "        \n",
    "print(\"The largest number of list is {}\".format(big))\n"
   ]
  },
  {
   "cell_type": "markdown",
   "id": "5b72889b",
   "metadata": {},
   "source": [
    "# Q-12 Write a program that prints out all the elements of the list that are less than 5."
   ]
  },
  {
   "cell_type": "code",
   "execution_count": 20,
   "id": "758d41d6",
   "metadata": {},
   "outputs": [
    {
     "name": "stdout",
     "output_type": "stream",
     "text": [
      "Elements smaller than 5 are:  1 1 2 3 "
     ]
    }
   ],
   "source": [
    "# Q12 Take a list, say for example this one:\n",
    "# a = [1, 1, 2, 3, 5, 8, 13, 21, 34, 55, 89]\n",
    "# Write a program that prints out all the elements of the list that are less than 5.\n",
    "\n",
    "a = [1, 1, 2, 3, 5, 8, 13, 21, 34, 55, 89]\n",
    "\n",
    "print(\"Elements smaller than 5 are: \", end=\" \")\n",
    "for z in a:\n",
    "    if z < 5:\n",
    "        print(z, end=\" \")\n",
    "        \n"
   ]
  },
  {
   "cell_type": "code",
   "execution_count": null,
   "id": "f04c87aa",
   "metadata": {},
   "outputs": [],
   "source": []
  }
 ],
 "metadata": {
  "kernelspec": {
   "display_name": "Python 3",
   "language": "python",
   "name": "python3"
  },
  "language_info": {
   "codemirror_mode": {
    "name": "ipython",
    "version": 3
   },
   "file_extension": ".py",
   "mimetype": "text/x-python",
   "name": "python",
   "nbconvert_exporter": "python",
   "pygments_lexer": "ipython3",
   "version": "3.8.8"
  }
 },
 "nbformat": 4,
 "nbformat_minor": 5
}
