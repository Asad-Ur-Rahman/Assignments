{
 "cells": [
  {
   "cell_type": "markdown",
   "id": "5a382991",
   "metadata": {},
   "source": [
    "# Q-1 Make a calculator using Python with addition , subtraction ,multiplication ,division and power."
   ]
  },
  {
   "cell_type": "code",
   "execution_count": 12,
   "id": "dd61b323",
   "metadata": {},
   "outputs": [],
   "source": [
    "def calcuator(a,b,operation):\n",
    "    \n",
    "    if operation == \"add\":\n",
    "        \n",
    "        print(\"{0} + {1} = {2}\".format(a,b, a+b))\n",
    "    \n",
    "    elif operation == \"sub\":\n",
    "        \n",
    "        print(\"{0} - {1} = {2}\".format(a,b, a-b))\n",
    "    \n",
    "    elif operation == \"mul\":\n",
    "        \n",
    "        print(\"{0} x {1} = {2}\".format(a,b, a*b))\n",
    "    \n",
    "    elif operation == \"div\":\n",
    "        print(\"{0} / {1} = {2}\".format(a,b, a/b))\n",
    "    \n",
    "    elif operation == \"pwr\":\n",
    "        print(\"{0} ** {1} = {2}\".format(a,b, a**b))\n",
    "    "
   ]
  },
  {
   "cell_type": "code",
   "execution_count": 13,
   "id": "829c8c39",
   "metadata": {},
   "outputs": [
    {
     "name": "stdout",
     "output_type": "stream",
     "text": [
      "2 ** 3 = 8\n"
     ]
    }
   ],
   "source": [
    "calcuator(2, 3, \"pwr\")"
   ]
  },
  {
   "cell_type": "markdown",
   "id": "1ac8aff3",
   "metadata": {},
   "source": [
    "# Q-2 Write a program to check if there is any numeric value in list using for loop."
   ]
  },
  {
   "cell_type": "code",
   "execution_count": 27,
   "id": "c9de353f",
   "metadata": {},
   "outputs": [
    {
     "name": "stdout",
     "output_type": "stream",
     "text": [
      "There are 3 numeric values\n"
     ]
    }
   ],
   "source": [
    "x =  [1 , \"2\" , 2.5, \"3\", 4, True]\n",
    "y = 0\n",
    "\n",
    "for i in x:\n",
    "    #print(isinstance(i, (int, float)))\n",
    "    if isinstance(i, (int, float)) and not(isinstance(i, bool)):\n",
    "        \n",
    "        y = y + 1\n",
    "        #print(i)\n",
    "        \n",
    "print(\"There are\", y, \"numeric values\")"
   ]
  },
  {
   "cell_type": "markdown",
   "id": "ad99adc2",
   "metadata": {},
   "source": [
    "# Q-3 Write a Python script to add a key to a dictionary."
   ]
  },
  {
   "cell_type": "code",
   "execution_count": 28,
   "id": "6ac3c091",
   "metadata": {},
   "outputs": [],
   "source": [
    "car = {\n",
    "  \"brand\": \"Ford\",\n",
    "  \"model\": \"Mustang\",\n",
    "  \"year\": 1964\n",
    "}"
   ]
  },
  {
   "cell_type": "code",
   "execution_count": 30,
   "id": "9594bdee",
   "metadata": {},
   "outputs": [
    {
     "data": {
      "text/plain": [
       "{'brand': 'Ford', 'model': 'Mustang', 'year': 1964, 'color': 'Red'}"
      ]
     },
     "execution_count": 30,
     "metadata": {},
     "output_type": "execute_result"
    }
   ],
   "source": [
    "# Method 1\n",
    "car[\"color\"] = \"Red\"\n",
    "car"
   ]
  },
  {
   "cell_type": "code",
   "execution_count": 32,
   "id": "b0878241",
   "metadata": {},
   "outputs": [
    {
     "data": {
      "text/plain": [
       "{'brand': 'Ford',\n",
       " 'model': 'Mustang',\n",
       " 'year': 1964,\n",
       " 'color': 'Red',\n",
       " 'doors': 'Two'}"
      ]
     },
     "execution_count": 32,
     "metadata": {},
     "output_type": "execute_result"
    }
   ],
   "source": [
    "# Method 2\n",
    "car.update({\"doors\": \"Two\"})\n",
    "car"
   ]
  },
  {
   "cell_type": "markdown",
   "id": "69e90570",
   "metadata": {},
   "source": [
    "# Q-4 Write a Python program to sum all the numeric items in a dictionary."
   ]
  },
  {
   "cell_type": "code",
   "execution_count": 4,
   "id": "8276d4f7",
   "metadata": {},
   "outputs": [
    {
     "data": {
      "text/plain": [
       "9.5"
      ]
     },
     "execution_count": 4,
     "metadata": {},
     "output_type": "execute_result"
    }
   ],
   "source": [
    "test = {\n",
    "    1 : \"1\",\n",
    "    \"2\" : 2,\n",
    "    3 : \"3\",\n",
    "    \"a\" : \"A\",\n",
    "    \"b\" : 3.5\n",
    "}\n",
    "sumNum = 0\n",
    "\n",
    "for key,value in test.items():\n",
    "    \n",
    "    if isinstance(key,(int, float)):\n",
    "        #print(key)\n",
    "        sumNum = sumNum + key\n",
    "        \n",
    "    if isinstance(value, (int, float)):\n",
    "        #print(value)\n",
    "        sumNum = sumNum + value\n",
    "\n",
    "sumNum"
   ]
  },
  {
   "cell_type": "markdown",
   "id": "43990cbc",
   "metadata": {},
   "source": [
    "# Q-5 Write a program to identify duplicate values from list."
   ]
  },
  {
   "cell_type": "code",
   "execution_count": 8,
   "id": "f3c43be2",
   "metadata": {},
   "outputs": [
    {
     "data": {
      "text/plain": [
       "[1, 2, 3, 4, 5]"
      ]
     },
     "execution_count": 8,
     "metadata": {},
     "output_type": "execute_result"
    }
   ],
   "source": [
    "l1=[1,2,3,4,5,2,3,4,7,9,5, 1]\n",
    "l2 = []\n",
    "\n",
    "for i in l1:\n",
    "    if l1.count(i) > 1 and i not in l2:\n",
    "        \n",
    "        l2.append(i)\n",
    "l2"
   ]
  },
  {
   "cell_type": "markdown",
   "id": "20c2611c",
   "metadata": {},
   "source": [
    "# Q-6 Write a Python script to check if a given key already exists in a dictionary"
   ]
  },
  {
   "cell_type": "code",
   "execution_count": 11,
   "id": "12e2dcf8",
   "metadata": {},
   "outputs": [
    {
     "name": "stdout",
     "output_type": "stream",
     "text": [
      "Key not found\n"
     ]
    }
   ],
   "source": [
    "d1 = {\n",
    "    \"a\" : \"Some Value\",\n",
    "    \"b\" : [1, 2, 3, 4],\n",
    "    \n",
    "}\n",
    "\n",
    "if 'h' in d1:\n",
    "    print(\"Key exists\")\n",
    "else:\n",
    "    print(\"Key not found\")"
   ]
  }
 ],
 "metadata": {
  "kernelspec": {
   "display_name": "Python 3 (ipykernel)",
   "language": "python",
   "name": "python3"
  },
  "language_info": {
   "codemirror_mode": {
    "name": "ipython",
    "version": 3
   },
   "file_extension": ".py",
   "mimetype": "text/x-python",
   "name": "python",
   "nbconvert_exporter": "python",
   "pygments_lexer": "ipython3",
   "version": "3.9.7"
  }
 },
 "nbformat": 4,
 "nbformat_minor": 5
}
